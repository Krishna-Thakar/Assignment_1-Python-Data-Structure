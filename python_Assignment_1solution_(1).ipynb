{
  "nbformat": 4,
  "nbformat_minor": 0,
  "metadata": {
    "colab": {
      "provenance": []
    },
    "kernelspec": {
      "name": "python3",
      "display_name": "Python 3"
    },
    "language_info": {
      "name": "python"
    }
  },
  "cells": [
    {
      "cell_type": "markdown",
      "source": [
        "***python Assignment 1 solution ***"
      ],
      "metadata": {
        "id": "lu8Nsr5tOLtR"
      }
    },
    {
      "cell_type": "markdown",
      "source": [
        "question 1=Write a code to reverse a string\n"
      ],
      "metadata": {
        "id": "U8rq0ZcMOWdC"
      }
    },
    {
      "cell_type": "code",
      "source": [
        "print(\"[THIS PROGRAM REVERSES THE STRING ]\")\n",
        "st = input(\"Enter your message that you want to see in reverse order:\\n\")\n",
        "\n",
        "st_reversed = st[::-1]\n",
        "\n",
        "print(\"\\nOriginal Message:\", st)\n",
        "print(\"Reversed Message:\", st_reversed)\n"
      ],
      "metadata": {
        "id": "R84EUJE0OgKn",
        "colab": {
          "base_uri": "https://localhost:8080/"
        },
        "outputId": "52733228-12ba-4e4d-9195-40bd8c8a99f7"
      },
      "execution_count": null,
      "outputs": [
        {
          "output_type": "stream",
          "name": "stdout",
          "text": [
            "[THIS PROGRAM REVERSES THE STRING ]\n",
            "Enter your message that you want to see in reverse order:\n",
            "Krishna Thakar\n",
            "\n",
            "Original Message: Krishna Thakar\n",
            "Reversed Message: rakahT anhsirK\n"
          ]
        }
      ]
    },
    {
      "cell_type": "markdown",
      "source": [
        "Code Execution Explanation= This program allows you to enter a message, and it will display the message in reverse order. First, it prompts you to enter a message. Then, it uses slicing ([::-1]) to reverse the string. Finally, it prints both the original message and the reversed message."
      ],
      "metadata": {
        "id": "ZbwcnGvZU5Bk"
      }
    },
    {
      "cell_type": "markdown",
      "source": [
        "question 2=  Write a code to count the number of vowels in a string"
      ],
      "metadata": {
        "id": "_F22X-R8PKmS"
      }
    },
    {
      "cell_type": "code",
      "source": [
        "st = input(\"Enter your message: \\n\")\n",
        "vowels = \"aeiouAEIOU\"\n",
        "count = 0\n",
        "\n",
        "for char in st:\n",
        "    if char in vowels:\n",
        "        count += 1\n",
        "\n",
        "print(\"Number of vowels in the message:\", count)\n"
      ],
      "metadata": {
        "id": "WmX2dBRiPnTh",
        "colab": {
          "base_uri": "https://localhost:8080/"
        },
        "outputId": "8045287e-372f-4280-e472-9e1989317095"
      },
      "execution_count": null,
      "outputs": [
        {
          "output_type": "stream",
          "name": "stdout",
          "text": [
            "Enter your message: \n",
            "KRISHNA thakar\n",
            "Number of vowels in the message: 4\n"
          ]
        }
      ]
    },
    {
      "cell_type": "markdown",
      "source": [
        "Code Execution Explanation= This program prompts the user to enter a message. It then iterates through each character in the message and checks if the character is a vowel (either lowercase or uppercase). If a character is found to be a vowel, it increments the count. Finally, it displays the total count of vowels found in the message."
      ],
      "metadata": {
        "id": "Ry9WG1-qV5n8"
      }
    },
    {
      "cell_type": "markdown",
      "source": [
        "question 3= Write a code to check if a given string is a palindrome or not\n"
      ],
      "metadata": {
        "id": "WLW8nMgCPo1_"
      }
    },
    {
      "cell_type": "code",
      "source": [
        "while True:\n",
        "    name=input(\"enter your string :\").lower() #i have made it case insensitive for user convenience\n",
        "    if name== name[::-1]:\n",
        "        print(\"This string  is palindrome\")\n",
        "    else:\n",
        "        print(\"This is common string \")\n",
        "\n",
        "\n",
        "    s=int(input(\"enter your choice 1 for countinue chacking and 2 for stop :\"))\n",
        "    if s==1:\n",
        "        continue\n",
        "    elif s==2:\n",
        "        print(\"have a good day \")\n",
        "        break\n",
        "    else:\n",
        "        print(\"invalid choice\")\n",
        "        break"
      ],
      "metadata": {
        "id": "nQRwOgYBPxvX",
        "colab": {
          "base_uri": "https://localhost:8080/"
        },
        "outputId": "73cfc177-13cf-4ba7-c128-ebf6e33fc3ea"
      },
      "execution_count": 4,
      "outputs": [
        {
          "output_type": "stream",
          "name": "stdout",
          "text": [
            "enter your string :pwskills\n",
            "This is common string \n",
            "enter your choice 1 for countinue chacking and 2 for stop :1\n",
            "enter your string :level\n",
            "This string  is palindrome\n",
            "enter your choice 1 for countinue chacking and 2 for stop :2\n",
            "have a good day \n"
          ]
        }
      ]
    },
    {
      "cell_type": "markdown",
      "source": [
        "Code Execution Explanation=This program repeatedly prompts the user to enter a string. It then checks if the entered string is the same as its reverse (name == name[::-1]). If the string is a palindrome (reads the same backward as forward), it displays a message confirming it. Otherwise, it indicates that the string is not a palindrome. The program provides an option to continue checking more strings or to exit.\""
      ],
      "metadata": {
        "id": "jqzUrWF-V_1O"
      }
    },
    {
      "cell_type": "markdown",
      "source": [
        "question 4=  Write a code to check if two given strings are anagrams of each\n",
        "other"
      ],
      "metadata": {
        "id": "3_Aed6sNQRNk"
      }
    },
    {
      "cell_type": "code",
      "source": [
        "while True:\n",
        "    s1=input(\"enter your string 1 \").lower()  #here i made it case insensitive so that user do not need to\n",
        "    s2=input (\"enter your string 2  \").lower() # take care of latter while giving input\n",
        "    if sorted(s1)==sorted(s2):\n",
        "        print(\"this two string is anagram\")\n",
        "    else:\n",
        "        print(\"this is normal string \")\n",
        "\n",
        "\n",
        "    s=int(input(\"enter your choice 1 for countinue chacking and 2 for stop :\"))\n",
        "    if s==1:\n",
        "        continue\n",
        "    elif s==2:\n",
        "        break\n",
        "    else:\n",
        "        print(\"invalid choice\")\n",
        "        break\n",
        "\n"
      ],
      "metadata": {
        "id": "wKDVbYNGQjpl",
        "colab": {
          "base_uri": "https://localhost:8080/"
        },
        "outputId": "1967eb2d-7c2e-4a47-f7d2-c6b231d34cf6"
      },
      "execution_count": 5,
      "outputs": [
        {
          "name": "stdout",
          "output_type": "stream",
          "text": [
            "enter your string 1 pwskills\n",
            "enter your string 2  Pwskills\n",
            "this two string is anagram\n",
            "enter your choice 1 for countinue chacking and 2 for stop :1\n",
            "enter your string 1 krishna thakar\n",
            "enter your string 2  krishna\n",
            "this is normal string \n",
            "enter your choice 1 for countinue chacking and 2 for stop :2\n"
          ]
        }
      ]
    },
    {
      "cell_type": "markdown",
      "source": [
        "Code Execution Explanation=This program repeatedly prompts the user to enter two strings. It then checks if the sorted versions of both strings are identical (sorted(s1) == sorted(s2)). If the sorted strings are the same, it confirms that the two strings are anagrams of each other. Otherwise, it indicates that the strings are not anagrams. The program provides an option to continue checking more string pairs or to exit."
      ],
      "metadata": {
        "id": "im9cTIqgYDty"
      }
    },
    {
      "cell_type": "markdown",
      "source": [
        "question 5= Write a code to find all occurrences of a given substring within another string"
      ],
      "metadata": {
        "id": "SVFL7JhtQxxv"
      }
    },
    {
      "cell_type": "code",
      "source": [
        "def find_occurrences(sentence, word):\n",
        "    occurrences = []\n",
        "    length = len(word)\n",
        "    index = 0\n",
        "\n",
        "    while True:\n",
        "        index = sentence.find(word, index)\n",
        "        if index == -1:\n",
        "            break\n",
        "        occurrences.append(index)\n",
        "        index += 1\n",
        "\n",
        "    return occurrences\n",
        "\n",
        "\n",
        "sentence = input(\"Enter your main string \\n\").lower() #here i made it case insensitive for user convenience\n",
        "word = input(\"enter your substring :\\n\").lower()      #here i made it case insensitive for user convenience\n",
        "result = find_occurrences(sentence, word)\n",
        "if result:\n",
        "    print(f\"The word '{word}' occurs at the following indices: {result}\")\n",
        "else:\n",
        "    print(f\"The word '{word}' does not occur in the sentence.\")\n"
      ],
      "metadata": {
        "id": "gFl7jCFlQ8KR",
        "colab": {
          "base_uri": "https://localhost:8080/"
        },
        "outputId": "402edadb-2142-47f5-9578-d7684172c4d3"
      },
      "execution_count": 6,
      "outputs": [
        {
          "output_type": "stream",
          "name": "stdout",
          "text": [
            "Enter your main string \n",
            "all mentors in pwskills are very supportive thank you all mentors for your valuable support\n",
            "enter your substring :\n",
            "mentors\n",
            "The word 'mentors' occurs at the following indices: [4, 58]\n"
          ]
        }
      ]
    },
    {
      "cell_type": "markdown",
      "source": [
        "Code Execution Explanation=This program defines a function find_occurrences that takes two input strings: sentence (the main string) and word (the substring to search for). It initializes an empty list called occurrences to store the indices where the substring is found. The program uses a while loop to iteratively find occurrences of the substring within the main string using the find() method. Each time a substring is found, its index is added to the occurrences list. The loop continues until no more occurrences are found (index == -1). Finally, the program displays the indices where the substring appears in the main string, or a message indicating that the substring does not occur."
      ],
      "metadata": {
        "id": "kSAC2iajYkCl"
      }
    },
    {
      "cell_type": "markdown",
      "source": [
        "question 6= Write a code to perform basic string compression using the counts of repeated characters"
      ],
      "metadata": {
        "id": "ahkZtw6gSs3t"
      }
    },
    {
      "cell_type": "code",
      "source": [
        "s=input(\"Enter your string \")\n",
        "compressed = \"\"\n",
        "count = 1\n",
        "\n",
        "for i in range(1, len(s)):\n",
        "    if s[i] == s[i-1]:\n",
        "        count += 1\n",
        "    else:\n",
        "        compressed += s[i-1] + str(count)\n",
        "        count = 1\n",
        "\n",
        "\n",
        "compressed += s[-1] + str(count)\n",
        "\n",
        "print(\"Compressed string:\", compressed)"
      ],
      "metadata": {
        "id": "2qGG3NfnS0Pg",
        "colab": {
          "base_uri": "https://localhost:8080/"
        },
        "outputId": "30be9c17-13ce-4109-cf04-82bc62408fac"
      },
      "execution_count": null,
      "outputs": [
        {
          "output_type": "stream",
          "name": "stdout",
          "text": [
            "Enter your string aabbccddef\n",
            "Compressed string: a2b2c2d2e1f1\n"
          ]
        }
      ]
    },
    {
      "cell_type": "markdown",
      "source": [
        "Code Execution Explanation=This program compresses a string by counting consecutive occurrences of each character. It iterates through the string and compares each character with the previous one. If a character is the same as the previous one, it increments a count. When encountering a different character or reaching the end of the string, it appends the previous character and its count to a compressed string. Finally, it displays the compressed string representing each character followed by the number of its consecutive occurrences."
      ],
      "metadata": {
        "id": "5c-73qRxZO7j"
      }
    },
    {
      "cell_type": "markdown",
      "source": [
        "question 7= Write a code to determine if a string has all unique characters"
      ],
      "metadata": {
        "id": "Tikv22_IZ8TV"
      }
    },
    {
      "cell_type": "code",
      "source": [
        "while True:\n",
        "    st=input(\"enter a string you want to check \\n\")\n",
        "    if len(st) == len(set(st)):\n",
        "        print(\"all are unique char\")\n",
        "    else:\n",
        "        print(\"not unique\")\n",
        "\n",
        "    s=int(input(\"enter your choice 1 for countinue chacking and 2 for stop :\"))\n",
        "    if s==1:\n",
        "        continue\n",
        "    elif s==2:\n",
        "        break\n",
        "    else:\n",
        "        print(\"invalid choice\")\n",
        "        break\n",
        "\n"
      ],
      "metadata": {
        "id": "CNfNwOLzaFnK",
        "colab": {
          "base_uri": "https://localhost:8080/"
        },
        "outputId": "ef4ad178-1ca7-47dc-9218-2f8e4b01092e"
      },
      "execution_count": 7,
      "outputs": [
        {
          "name": "stdout",
          "output_type": "stream",
          "text": [
            "enter a string you want to check \n",
            "krishna \n",
            "all are unique char\n",
            "enter your choice 1 for countinue chacking and 2 for stop :1\n",
            "enter a string you want to check \n",
            "pwskills\n",
            "not unique\n",
            "enter your choice 1 for countinue chacking and 2 for stop :2\n"
          ]
        }
      ]
    },
    {
      "cell_type": "markdown",
      "source": [
        "Code Execution Explanation= This program checks if a given string contains only unique characters. It uses a set to remove duplicate characters from the string and compares the length of the original string with the length of the set. If both lengths are equal, it means that all characters in the string are unique. Otherwise, it indicates that there are duplicate characters present."
      ],
      "metadata": {
        "id": "wwc2an5bcCqt"
      }
    },
    {
      "cell_type": "markdown",
      "source": [
        "question 8=  Write a code to convert a given string to uppercase or lowercase"
      ],
      "metadata": {
        "id": "xCsaI13ba3zx"
      }
    },
    {
      "cell_type": "code",
      "source": [
        "while True:\n",
        "    st=input(\"enter a string you want to convert in uper or lower case :\\n\")\n",
        "    choice=input(\"enter your opction for upper write upper and for lower write lower : \\n\").lower() # for user easiness\n",
        "                                                                                                    #i made this choice part case insensitive\n",
        "\n",
        "    if choice == \"upper\":\n",
        "        print(st.upper())\n",
        "    elif choice  == \"lower\":\n",
        "        print(st.lower())\n",
        "    else:\n",
        "      print(\"invalid choice\")\n",
        "\n",
        "\n",
        "\n",
        "    s=int(input(\"enter your choice 1 for countinue chacking and 2 for stop :\"))\n",
        "    if s==1:\n",
        "        continue\n",
        "    elif s==2:\n",
        "        print(\"have a good day \")\n",
        "        break\n",
        "    else:\n",
        "        print(\"invalid choice\")\n",
        "        break\n"
      ],
      "metadata": {
        "id": "1iAYHrova-p4",
        "colab": {
          "base_uri": "https://localhost:8080/"
        },
        "outputId": "50ec6b74-b5ec-4233-ba94-7fb7f833fba9"
      },
      "execution_count": 9,
      "outputs": [
        {
          "output_type": "stream",
          "name": "stdout",
          "text": [
            "enter a string you want to convert in uper or lower case :\n",
            "pwskills \n",
            "enter your opction for upper write upper and for lower write lower : \n",
            "upper\n",
            "PWSKILLS \n",
            "enter your choice 1 for countinue chacking and 2 for stop :1\n",
            "enter a string you want to convert in uper or lower case :\n",
            "PWSKILLS\n",
            "enter your opction for upper write upper and for lower write lower : \n",
            "lower\n",
            "pwskills\n",
            "enter your choice 1 for countinue chacking and 2 for stop :2\n",
            "have a good day \n"
          ]
        }
      ]
    },
    {
      "cell_type": "markdown",
      "source": [
        "Code Execution Explanation= This program lets you enter a message and choose whether you want it to be in uppercase (all big letters) or lowercase (all small letters). First, you type your message. Then, you pick 'upper' if you want big letters or 'lower' if you want small letters. The program will show your message in the style you picked. You can try this with more messages or stop when you're done by pressing 2."
      ],
      "metadata": {
        "id": "VhC7EbLnc221"
      }
    },
    {
      "cell_type": "markdown",
      "source": [
        "question 9= Write a code to count the number of words in a string"
      ],
      "metadata": {
        "id": "9QhMmOoPbcCK"
      }
    },
    {
      "cell_type": "code",
      "source": [
        "while True:\n",
        "    st=input(\"enter a string you want to count word out of it \\n\")\n",
        "    a = len(st.split())\n",
        "\n",
        "    print(a)\n",
        "\n",
        "\n",
        "    s=int(input(\"enter your choice 1 for countinue chacking and 2 for stop :\"))\n",
        "    if s==1:\n",
        "        continue\n",
        "    elif s==2:\n",
        "        print(\"have a good day\")\n",
        "        break\n",
        "    else:\n",
        "        print(\"invalid choice\")\n",
        "        break\n",
        "\n"
      ],
      "metadata": {
        "id": "uWPjtXxibipX",
        "colab": {
          "base_uri": "https://localhost:8080/"
        },
        "outputId": "76af378d-588a-49be-9b5c-c23d85a83768"
      },
      "execution_count": 10,
      "outputs": [
        {
          "output_type": "stream",
          "name": "stdout",
          "text": [
            "enter a string you want to count word out of it \n",
            "Thank you pwskills and all mentors for being always supportive i am glad to be a student of pwskills \n",
            "19\n",
            "enter your choice 1 for countinue chacking and 2 for stop :1\n",
            "enter a string you want to count word out of it \n",
            "krishna thakar\n",
            "2\n",
            "enter your choice 1 for countinue chacking and 2 for stop :2\n",
            "have a good day\n"
          ]
        }
      ]
    },
    {
      "cell_type": "markdown",
      "source": [
        "Code Execution Explanation= This program helps you count how many words are in a sentence or message. First, you type your sentence. Then, the program figures out how many words are in it by splitting the sentence into separate words. Finally, it shows you the number of words. You can try this with more sentences or stop when you're done by pressing 2."
      ],
      "metadata": {
        "id": "jjDb8YbQdfEY"
      }
    },
    {
      "cell_type": "markdown",
      "source": [
        "question 10= Write a code to concatenate two strings without using the + operator"
      ],
      "metadata": {
        "id": "00FuFjjVcW3e"
      }
    },
    {
      "cell_type": "code",
      "source": [
        "while True :\n",
        "    a=input(\"enter string 1 :\\n\")\n",
        "    b=input(\"enter string 2 that you want to combine with string 1 :\\n  \")\n",
        "    print(a, end=\" \")\n",
        "    print(b)\n",
        "\n",
        "\n",
        "    s=int(input(\"enter your choice 1 for countinue chacking and 2 for stop :\"))\n",
        "    if s==1:\n",
        "        continue\n",
        "    elif s==2:\n",
        "        break\n",
        "    else:\n",
        "        print(\"invalid choice\")\n",
        "        break\n"
      ],
      "metadata": {
        "id": "NHk-ljmRcc2I",
        "colab": {
          "base_uri": "https://localhost:8080/"
        },
        "outputId": "fc2c2447-34ec-4f1b-8715-5aa6313ab158"
      },
      "execution_count": 11,
      "outputs": [
        {
          "name": "stdout",
          "output_type": "stream",
          "text": [
            "enter string 1 :\n",
            "pwskills is good platform to learn and grow\n",
            "enter string 2 that you want to combine with string 1 :\n",
            "  i would like to  recommend it  to my friends and  cousins\n",
            "pwskills is good platform to learn and grow i would like to  recommend it  to my friends and  cousins\n",
            "enter your choice 1 for countinue chacking and 2 for stop :2\n"
          ]
        }
      ]
    },
    {
      "cell_type": "markdown",
      "source": [
        "Code Execution Explanation= This program helps you combine two words or messages into one without using the '+' symbol. First, you type your first word or message. Then, you type the second word or message that you want to add to the first one. The program prints the first word followed by the second word to show them combined. You can try this with more words or messages, and when you're done, you can stop by pressing '2'."
      ],
      "metadata": {
        "id": "xWdEMObAd8Pr"
      }
    },
    {
      "cell_type": "markdown",
      "source": [
        "questions 11=Write a code to remove all occurrences of a specific element from a list"
      ],
      "metadata": {
        "id": "nsiDAYJMdRRF"
      }
    },
    {
      "cell_type": "markdown",
      "source": [
        "Note: Please enter comma-separated interger values. Ensure there are no trailing commas or spaces at the end of your input, as this may cause an error."
      ],
      "metadata": {
        "id": "4NSDuWtVJqXq"
      }
    },
    {
      "cell_type": "code",
      "source": [
        "while True:\n",
        "    st = input(\"Enter data (comma-separated): \")\n",
        "\n",
        "    list1 = list(map(int, st.split(',')))\n",
        "\n",
        "\n",
        "    remove_input = input(\"Enter elements to remove (comma-separated): \") #comma seperated if you have more than 1 elements\n",
        "\n",
        "\n",
        "    elements_to_remove = list(map(int, remove_input.split(',')))\n",
        "\n",
        "\n",
        "    result_list = [x for x in list1 if x not in elements_to_remove]\n",
        "\n",
        "    print(\"Modified List after removing specified elements:\", result_list)\n",
        "\n",
        "    s=int(input(\"enter your choice 1 for countinue chacking and 2 for stop :\"))\n",
        "    if s==1:\n",
        "        continue\n",
        "    elif s==2:\n",
        "        break\n",
        "    else:\n",
        "        print(\"invalid choice\")\n",
        "        break\n",
        "\n"
      ],
      "metadata": {
        "id": "ukxJo6mGdYaF",
        "colab": {
          "base_uri": "https://localhost:8080/"
        },
        "outputId": "20d2d03c-6c50-41bf-deab-758887da6fa8"
      },
      "execution_count": 12,
      "outputs": [
        {
          "name": "stdout",
          "output_type": "stream",
          "text": [
            "Enter data (comma-separated): 10,20,30,40,20,30\n",
            "Enter elements to remove (comma-separated): 20,30\n",
            "Modified List after removing specified elements: [10, 40]\n",
            "enter your choice 1 for countinue chacking and 2 for stop :1\n",
            "Enter data (comma-separated): 10,20,30,40,50,50,50\n",
            "Enter elements to remove (comma-separated): 50\n",
            "Modified List after removing specified elements: [10, 20, 30, 40]\n",
            "enter your choice 1 for countinue chacking and 2 for stop :2\n"
          ]
        }
      ]
    },
    {
      "cell_type": "markdown",
      "source": [
        "Code Execution Explanation=This program helps remove certain numbers from a list of numbers. First, you type a list of numbers separated by commas. Then, you enter the numbers you want to remove from that list, also separated by commas. The program then shows you the list with those numbers removed. You can try this with more lists and removals, and when you're done, you can stop by pressing 2."
      ],
      "metadata": {
        "id": "EtoObWuYgLCK"
      }
    },
    {
      "cell_type": "markdown",
      "source": [
        "question 12= Implement a code to find the second largest number in a given list of integers"
      ],
      "metadata": {
        "id": "y0U0ZzDGg_2g"
      }
    },
    {
      "cell_type": "markdown",
      "source": [
        "Note: Please enter comma-separated interger values. Ensure there are no trailing commas or spaces at the end of your input, as this may cause an error."
      ],
      "metadata": {
        "id": "NoqJyeODJ6M-"
      }
    },
    {
      "cell_type": "code",
      "source": [
        "num = input(\"Enter a list of numbers (comma-separated): \")\n",
        "num_list = num.split(\",\")\n",
        "numbers = [int(num) for num in num_list]\n",
        "unique_num = list(set(numbers))\n",
        "unique_num.sort()\n",
        "if len(unique_num) < 2:\n",
        "    print(\"Please enter at least two distinct numbers to find the second largest.\")\n",
        "else:\n",
        "    second_largest = unique_num[-2]\n",
        "    print(f\"Second largest number is: {second_largest}\")"
      ],
      "metadata": {
        "id": "zbUi5m3jhIxJ",
        "colab": {
          "base_uri": "https://localhost:8080/"
        },
        "outputId": "446c232b-a1cb-4749-f09d-4dc95d780433"
      },
      "execution_count": null,
      "outputs": [
        {
          "output_type": "stream",
          "name": "stdout",
          "text": [
            "Enter a list of numbers (comma-separated): 10,20,40,50,60,99,100\n",
            "Second largest number is: 99\n"
          ]
        }
      ]
    },
    {
      "cell_type": "markdown",
      "source": [
        "Code Execution Explanation=This program helps find the second biggest number in a list of numbers. First, you enter a list of numbers separated by commas. Then, the program removes any duplicate numbers and sorts the list from smallest to largest. If there are at least two different numbers in the list, the program finds and shows the second largest number. You can try this with different lists of numbers to see which one is the second largest"
      ],
      "metadata": {
        "id": "93IWRFmshitN"
      }
    },
    {
      "cell_type": "markdown",
      "source": [
        "question 13= Create a code to count the occurrences of each element in a list and return a dictionary with elements as\n",
        "keys and their counts as values"
      ],
      "metadata": {
        "id": "AZN1Kuvl-6Ow"
      }
    },
    {
      "cell_type": "markdown",
      "source": [
        "Note: Please enter comma-separated  values. Ensure there are no trailing commas or spaces at the end of your input, as this may cause an error."
      ],
      "metadata": {
        "id": "k8WPHnVSKB9R"
      }
    },
    {
      "cell_type": "markdown",
      "source": [
        "Please note that the input is received as a string instead of an integer or float. I chose to handle the input as a string to accommodate various data types, ensuring alignment with the specified condition."
      ],
      "metadata": {
        "id": "zuJ6OL3bKeww"
      }
    },
    {
      "cell_type": "code",
      "source": [
        "user_input = input(\"Enter a list of numbers separated by commas: \")\n",
        "lst = list(map(str, user_input.lower().split(\",\"))) #here i made it case insensitive incase of string values in different latters\n",
        "a = {x: lst.count(x) for x in set(lst)}\n",
        "\n",
        "print(a)"
      ],
      "metadata": {
        "id": "6Xk_hZkN_KyH",
        "colab": {
          "base_uri": "https://localhost:8080/"
        },
        "outputId": "d2b741ec-8be7-409c-a1ec-82a2deee89a3"
      },
      "execution_count": null,
      "outputs": [
        {
          "output_type": "stream",
          "name": "stdout",
          "text": [
            "Enter a list of numbers separated by commas: apple,banana,mango,orange,APPLE,MANGO\n",
            "{'apple': 2, 'mango': 2, 'banana': 1, 'orange': 1}\n"
          ]
        }
      ]
    },
    {
      "cell_type": "markdown",
      "source": [
        "Code Execution Explanation=This program helps count how many times each number appears in a list of numbers. First, you enter a list of numbers separated by commas. The program then creates a dictionary where each number is a 'key' and the value is the number of times it appears in the list. The program shows you this dictionary with all the numbers and their counts. You can try this with different lists of numbers to see how many times each number appears!"
      ],
      "metadata": {
        "id": "7R1VSVQIiMVa"
      }
    },
    {
      "cell_type": "markdown",
      "source": [
        "question 14=Write a code to reverse a list in-place without using any built-in reverse functions"
      ],
      "metadata": {
        "id": "wiaxvZyjaogu"
      }
    },
    {
      "cell_type": "markdown",
      "source": [
        "Note: Please enter comma-separated values. Ensure there are no trailing commas or spaces at the end of your input, as this may cause an error."
      ],
      "metadata": {
        "id": "NjvnH0AceIX9"
      }
    },
    {
      "cell_type": "markdown",
      "source": [
        "\n",
        "Please note that the input is received as a string instead of an integer or float. I chose to handle the input as a string to accommodate various data types, ensuring alignment with the specified condition."
      ],
      "metadata": {
        "id": "CPcb10yOavVy"
      }
    },
    {
      "cell_type": "code",
      "source": [
        "while True:\n",
        "  a=input(\"enter list that you want to get in reverse please use  comma after each number or string : \\n \")\n",
        "  ab=a.split(\",\")\n",
        "  left = 0\n",
        "  right = len(ab) - 1\n",
        "\n",
        "  while left < right:\n",
        "\n",
        "      ab [left], ab[right] = ab[right], ab[left]\n",
        "\n",
        "      left += 1\n",
        "      right -= 1\n",
        "\n",
        "  print(\"Original List:\", a)\n",
        "  print(\"Reversed List In-Place:\", ab)\n",
        "\n",
        "  s=int(input(\"enter your choice 1 for countinue chacking and 2 for stop :\"))\n",
        "  if s==1:\n",
        "      continue\n",
        "  elif s==2:\n",
        "      print(\"have a good day\")\n",
        "      break\n",
        "  else:\n",
        "      print(\"invalid choice\")\n",
        "      break\n",
        "\n"
      ],
      "metadata": {
        "id": "bbim13fLb8CC",
        "colab": {
          "base_uri": "https://localhost:8080/"
        },
        "outputId": "f181f717-63e8-4175-ee72-1f24f932513c"
      },
      "execution_count": 13,
      "outputs": [
        {
          "output_type": "stream",
          "name": "stdout",
          "text": [
            "enter list that you want to get in reverse please use  comma after each number or string : \n",
            " 1,2,3,4,5,6,7,8,9,10\n",
            "Original List: 1,2,3,4,5,6,7,8,9,10\n",
            "Reversed List In-Place: ['10', '9', '8', '7', '6', '5', '4', '3', '2', '1']\n",
            "enter your choice 1 for countinue chacking and 2 for stop :1\n",
            "enter list that you want to get in reverse please use  comma after each number or string : \n",
            " Jack sparrow,Tony Stark,Thor,Harry Potter,Paul Walker\n",
            "Original List: Jack sparrow,Tony Stark,Thor,Harry Potter,Paul Walker\n",
            "Reversed List In-Place: ['Paul Walker', 'Harry Potter', 'Thor', 'Tony Stark', 'Jack sparrow']\n",
            "enter your choice 1 for countinue chacking and 2 for stop :2\n",
            "have a good day\n"
          ]
        }
      ]
    },
    {
      "cell_type": "markdown",
      "source": [
        "Code Execution Explanation= This program helps flip a list of numbers or words. First, you enter a list of items separated by commas. Then, the program uses a technique called 'in-place reversal' where it swaps the first item with the last, the second with the second-to-last, and so on until the list is completely flipped. Finally, the program shows you the original list and the reversed list. You can try this with different lists of items to see them reversed!"
      ],
      "metadata": {
        "id": "fvAJe9YnjpFA"
      }
    },
    {
      "cell_type": "markdown",
      "source": [
        "question 15=Implement a code to find and remove duplicates from a list while preserving the original order of\n",
        "elements"
      ],
      "metadata": {
        "id": "_axV6O9WcAFO"
      }
    },
    {
      "cell_type": "markdown",
      "source": [
        "Note: Please enter comma-separated integers values."
      ],
      "metadata": {
        "id": "FkxgZkOReXlc"
      }
    },
    {
      "cell_type": "code",
      "source": [
        "while True:\n",
        "\n",
        "    a=input(\"enter a list of data that you want to check please enter comma separated data  \\n\")\n",
        "    ab=a.split(\",\")\n",
        "    list1 = [int(item.strip().rstrip(\",\")) for item in ab if item.strip().rstrip(\",\")]\n",
        "\n",
        "    unique_elements = []\n",
        "\n",
        "    for item in list1:\n",
        "        if item not in unique_elements:\n",
        "            unique_elements.append(item)\n",
        "\n",
        "\n",
        "\n",
        "\n",
        "    print(\"Original List:\", list1)\n",
        "\n",
        "\n",
        "    print(\"List after removing duplicates:\", unique_elements)\n",
        "\n",
        "\n",
        "    s=int(input(\"enter your choice 1 for countinue chacking and 2 for stop :\"))\n",
        "    if s==1:\n",
        "        continue\n",
        "    elif s==2:\n",
        "        break\n",
        "    else:\n",
        "        print(\"invalid choice\")\n",
        "        break\n",
        "\n"
      ],
      "metadata": {
        "id": "twSCIktBefpR",
        "colab": {
          "base_uri": "https://localhost:8080/"
        },
        "outputId": "84bfda54-de4d-4fcb-d5db-a6d356bfd10c"
      },
      "execution_count": 14,
      "outputs": [
        {
          "name": "stdout",
          "output_type": "stream",
          "text": [
            "enter a list of data that you want to check please enter comma separated data  \n",
            "1,2,3,3,4,4,5,6\n",
            "Original List: [1, 2, 3, 3, 4, 4, 5, 6]\n",
            "List after removing duplicates: [1, 2, 3, 4, 5, 6]\n",
            "enter your choice 1 for countinue chacking and 2 for stop :2\n"
          ]
        }
      ]
    },
    {
      "cell_type": "markdown",
      "source": [
        "Code Execution Explanation=  This program helps make a list of things unique by removing any repeated items while keeping the order the same. First, you type a list of items separated by commas. The program goes through each item in the list. If it hasn't seen the item before, it adds it to a new list of unique items. Finally, the program shows you the original list and the list with duplicates removed, keeping the order the same. You can try this with different lists to see how it removes duplicates!"
      ],
      "metadata": {
        "id": "_VocIN3vk0K7"
      }
    },
    {
      "cell_type": "markdown",
      "source": [
        "question 16= Create a code to check if a given list is sorted (either in ascending or descending order) or not"
      ],
      "metadata": {
        "id": "LCRY2-C1engI"
      }
    },
    {
      "cell_type": "markdown",
      "source": [
        "Note: Please enter comma-separated integers values. Ensure there are no trailing commas or spaces at the end of your input, as this may cause an error.\n",
        "\n",
        "\n",
        "\n"
      ],
      "metadata": {
        "id": "hhd6lEuKfSru"
      }
    },
    {
      "cell_type": "code",
      "source": [
        "while True:\n",
        "  user_input = input(\"Enter a list of numbers separated by commas: \")\n",
        "  lst = list(map(int, user_input.split(\",\")))\n",
        "\n",
        "  if lst == sorted(lst):\n",
        "      print(\"The list is sorted in ascending order.\")\n",
        "  elif lst == sorted(lst, reverse=True):\n",
        "      print(\"The list is sorted in descending order.\")\n",
        "  else:\n",
        "      print(\"The list is not sorted.\")\n",
        "\n",
        "  s=int(input(\"enter your choice 1 for countinue chacking and 2 for stop :\"))\n",
        "  if s==1:\n",
        "    continue\n",
        "  elif s==2:\n",
        "      print(\"have a good day\")\n",
        "      break\n",
        "  else:\n",
        "      print(\"invalid choice\")\n",
        "      break\n",
        "\n"
      ],
      "metadata": {
        "id": "EgQ-01g5fc4n",
        "colab": {
          "base_uri": "https://localhost:8080/"
        },
        "outputId": "8eb507f3-e4c7-47fc-aec9-584464660941"
      },
      "execution_count": null,
      "outputs": [
        {
          "output_type": "stream",
          "name": "stdout",
          "text": [
            "Enter a list of numbers separated by commas: 1,3,2,4\n",
            "The list is not sorted.\n",
            "enter your choice 1 for countinue chacking and 2 for stop :1\n",
            "Enter a list of numbers separated by commas: 1,2,3,4\n",
            "The list is sorted in ascending order.\n",
            "enter your choice 1 for countinue chacking and 2 for stop :1\n",
            "Enter a list of numbers separated by commas: 4,3,2,1\n",
            "The list is sorted in descending order.\n",
            "enter your choice 1 for countinue chacking and 2 for stop :2\n",
            "have a good day\n"
          ]
        }
      ]
    },
    {
      "cell_type": "markdown",
      "source": [
        "Code Execution Explanation= This program helps check if a list of numbers is sorted in either ascending (from smallest to largest) or descending (from largest to smallest) order. First, you enter a list of numbers separated by commas. The program compares the original list with a sorted version of the list. If they are the same, it means the list is sorted. The program then tells you whether the list is sorted or not. You can try this with different lists of numbers to see if they are sorted!"
      ],
      "metadata": {
        "id": "XzpUsgn6lNQu"
      }
    },
    {
      "cell_type": "markdown",
      "source": [
        "question 17= Write a code to merge two sorted lists into a single sorted list"
      ],
      "metadata": {
        "id": "GDw2TF2bfkew"
      }
    },
    {
      "cell_type": "markdown",
      "source": [
        "note=>please enter comma separated value"
      ],
      "metadata": {
        "id": "Ulp-IjwaiYce"
      }
    },
    {
      "cell_type": "markdown",
      "source": [
        "I have implemented support for various data types such as integers, floats, and strings. Please follow the outlined steps and provide your data as instructed to obtain the desired output."
      ],
      "metadata": {
        "id": "w59DBGYxhvzA"
      }
    },
    {
      "cell_type": "code",
      "source": [
        "while True:\n",
        "\n",
        "    x = input(\"Enter 1 for integers, 2 for floats, or 3 for strings: \")\n",
        "    a1 = input(\"Enter the first list separated by comma: \")\n",
        "    a2 = input(\"Enter the second list separated by comma: \")\n",
        "\n",
        "    list1 = a1.split(\",\")\n",
        "    list2 = a2.split(\",\")\n",
        "\n",
        "    final_output = []\n",
        "\n",
        "    if x == '1':\n",
        "        try:\n",
        "            # Filter out empty strings and strip whitespace and trailing commas before converting to int\n",
        "            int_list1 = [int(item.strip().rstrip(\",\")) for item in list1 if item.strip().rstrip(\",\")]\n",
        "            int_list2 = [int(item.strip().rstrip(\",\")) for item in list2 if item.strip().rstrip(\",\")]\n",
        "            final_output = sorted(int_list1 + int_list2)\n",
        "            print(\"Final output for integers:\", final_output)\n",
        "        except ValueError:\n",
        "            print(\"Error: Invalid input for integers.\")\n",
        "\n",
        "    elif x == '2':\n",
        "        try:\n",
        "            # Filter out empty strings and strip whitespace and trailing commas before converting to float\n",
        "            float_list1 = [float(item.strip().rstrip(\",\")) for item in list1 if item.strip().rstrip(\",\")]\n",
        "            float_list2 = [float(item.strip().rstrip(\",\")) for item in list2 if item.strip().rstrip(\",\")]\n",
        "            final_output = sorted(float_list1 + float_list2)\n",
        "            print(\"Final output for floats:\", final_output)\n",
        "        except ValueError:\n",
        "            print(\"Error: Invalid input for floats.\")\n",
        "\n",
        "    elif x == '3':\n",
        "        # Filter out empty strings and strip whitespace and trailing commas\n",
        "        string_list1 = [item.strip().rstrip(\",\") for item in list1 if item.strip().rstrip(\",\")]\n",
        "        string_list2 = [item.strip().rstrip(\",\") for item in list2 if item.strip().rstrip(\",\")]\n",
        "        final_output = sorted(string_list1 + string_list2)\n",
        "        print(\"Final output for strings:\", final_output)\n",
        "\n",
        "    else:\n",
        "        print(\"Invalid input choice. Please enter 1, 2, or 3.\")\n",
        "\n",
        "    print(\"Have a good day!\")\n",
        "    s=int(input(\"enter your choice 1 for countinue chacking and 2 for stop :\"))\n",
        "    if s==1:\n",
        "        continue\n",
        "    elif s==2:\n",
        "        print(\"have a good day \")\n",
        "        break\n",
        "    else:\n",
        "        print(\"invalid choice\")\n",
        "        print(\"restart your code to start again \")\n",
        "        break\n"
      ],
      "metadata": {
        "id": "WgKPP82NiVDs",
        "colab": {
          "base_uri": "https://localhost:8080/"
        },
        "outputId": "7b9eadb9-a24e-49b3-d487-226eb961f8d4"
      },
      "execution_count": null,
      "outputs": [
        {
          "output_type": "stream",
          "name": "stdout",
          "text": [
            "Enter 1 for integers, 2 for floats, or 3 for strings: 1\n",
            "Enter the first list separated by comma: 1,3,4,2\n",
            "Enter the second list separated by comma: 5,7,6\n",
            "Final output for integers: [1, 2, 3, 4, 5, 6, 7]\n",
            "Have a good day!\n",
            "enter your choice 1 for countinue chacking and 2 for stop :1\n",
            "Enter 1 for integers, 2 for floats, or 3 for strings: 2\n",
            "Enter the first list separated by comma: 1.1,1.3,1.2\n",
            "Enter the second list separated by comma: 2.2,2.1,1.4\n",
            "Final output for floats: [1.1, 1.2, 1.3, 1.4, 2.1, 2.2]\n",
            "Have a good day!\n",
            "enter your choice 1 for countinue chacking and 2 for stop :1\n",
            "Enter 1 for integers, 2 for floats, or 3 for strings: 3\n",
            "Enter the first list separated by comma: python,numpy,pandas,scikit learn,polar,matplotlib\n",
            "Enter the second list separated by comma: sql,excel,nlp,cv,power bi ,tableau ,mojo,neural networks\n",
            "Final output for strings: ['cv', 'excel', 'matplotlib', 'mojo', 'neural networks', 'nlp', 'numpy', 'pandas', 'polar', 'power bi', 'python', 'scikit learn', 'sql', 'tableau']\n",
            "Have a good day!\n",
            "enter your choice 1 for countinue chacking and 2 for stop :2\n",
            "have a good day \n"
          ]
        }
      ]
    },
    {
      "cell_type": "markdown",
      "source": [
        "Code Execution Explanation= This program helps combine two lists of numbers or words into one big sorted list. First, you choose the type of data you want to work with (1 for whole numbers, 2 for decimals, or 3 for words). Then, you enter the first list and the second list separated by commas. The program checks if the data type matches your choice (like whole numbers or decimals) and combines the lists into one sorted list. Finally, it shows you the big sorted list! You can try this with different types of data and see how it combines and sorts them."
      ],
      "metadata": {
        "id": "ZRwdavNMlo_P"
      }
    },
    {
      "cell_type": "markdown",
      "source": [
        "question 18= Implement a code to find the intersection of two given lists"
      ],
      "metadata": {
        "id": "uod0gmDkij26"
      }
    },
    {
      "cell_type": "markdown",
      "source": [
        "Note: Please enter comma-separated values. Ensure there are no trailing commas or spaces at the end of your input, as this may cause an error."
      ],
      "metadata": {
        "id": "SsOMj_9iMkjj"
      }
    },
    {
      "cell_type": "markdown",
      "source": [
        "Please note that the input is received as a string instead of an integer or float. I chose to handle the input as a string to accommodate various data types, ensuring alignment with the specified condition."
      ],
      "metadata": {
        "id": "CDTWoXxOlCtk"
      }
    },
    {
      "cell_type": "code",
      "source": [
        "a=input(\"enter list 1 that you want to check for intersection please enter comma separated value \\n\").lower() # i made it case insensitive for string data\n",
        "b=input(\"enter list 2 that you want to check for intersection please enter comma separated value \\n\").lower()\n",
        "li1=a.split(\",\")\n",
        "li2=b.split(\",\")\n",
        "\n",
        "set1 = set(li1)\n",
        "set2 = set(li2)\n",
        "\n",
        "intersection_set = set1.intersection(set2)\n",
        "intersection = list(intersection_set)\n",
        "print(\"Intersection of lists:\", intersection )\n"
      ],
      "metadata": {
        "id": "-8brV4a0lYqk",
        "colab": {
          "base_uri": "https://localhost:8080/"
        },
        "outputId": "8097b7bf-0d10-4f4a-9bbf-c301f9111d16"
      },
      "execution_count": null,
      "outputs": [
        {
          "output_type": "stream",
          "name": "stdout",
          "text": [
            "enter list 1 that you want to check for intersection please enter comma separated value \n",
            "1,2,3,4,5,100,10\n",
            "enter list 2 that you want to check for intersection please enter comma separated value \n",
            "1,2,3,100,200,300,400\n",
            "Intersection of lists: ['2', '3', '100', '1']\n"
          ]
        }
      ]
    },
    {
      "cell_type": "markdown",
      "source": [
        "Code Execution Explanation= This program helps find common items between two lists. First, you type the items of the first list separated by commas. Then, you type the items of the second list also separated by commas. The program then compares the items in both lists and finds the ones that are the same in both lists. Finally, it shows you the common items as the intersection of the two lists. You can try this with different lists to see which items they have in common!"
      ],
      "metadata": {
        "id": "LpjWoBG_nvPq"
      }
    },
    {
      "cell_type": "markdown",
      "source": [
        "question 19= Create a code to find the union of two lists without duplicates\n"
      ],
      "metadata": {
        "id": "4mKK2qJ5lfVZ"
      }
    },
    {
      "cell_type": "markdown",
      "source": [
        "note=>please enter comma separated integers value"
      ],
      "metadata": {
        "id": "x7X89rx-loCR"
      }
    },
    {
      "cell_type": "code",
      "source": [
        "a = input(\"Enter list 1 for union, enter comma-separated integer values \\n\")\n",
        "b = input(\"Enter list 2 for union, enter comma-separated integer values \\n\")\n",
        "\n",
        "# Split the input strings into lists, strip whitespace, and convert each element to an integer\n",
        "list1 = [int(item.strip().rstrip(\",\")) for item in a.split(\",\") if item.strip().rstrip(\",\")]\n",
        "list2 = [int(item.strip().rstrip(\",\")) for item in b.split(\",\") if item.strip().rstrip(\",\")]\n",
        "\n",
        "# Create a set to find the union of the integer lists\n",
        "union_set = set(list1 + list2)\n",
        "\n",
        "# Convert the set back to a list and sort it\n",
        "union_list = sorted(list(union_set))\n",
        "\n",
        "print(\"Union of list1 and list2:\", union_list)\n"
      ],
      "metadata": {
        "id": "GSLPSFySlvXI",
        "colab": {
          "base_uri": "https://localhost:8080/"
        },
        "outputId": "4aff2293-52b7-4b63-9f44-ba773d725903"
      },
      "execution_count": null,
      "outputs": [
        {
          "output_type": "stream",
          "name": "stdout",
          "text": [
            "Enter list 1 for union, enter comma-separated integer values \n",
            "1,2,3,4,5,6 \n",
            "Enter list 2 for union, enter comma-separated integer values \n",
            "100,200,300,1,2,3,4,51,1,1,3,3,\n",
            "Union of list1 and list2: [1, 2, 3, 4, 5, 6, 51, 100, 200, 300]\n"
          ]
        }
      ]
    },
    {
      "cell_type": "markdown",
      "source": [
        "Code Execution Explanation= This program helps combine two lists into one big list without repeating any items. First, you type the items of the first list separated by commas. Then, you type the items of the second list also separated by commas. The program then combines both lists and removes any duplicate items, showing you the combined list without duplicates. You can try this with different lists to see all the unique items together!"
      ],
      "metadata": {
        "id": "VNFxWenJoe_r"
      }
    },
    {
      "cell_type": "markdown",
      "source": [
        " question 20= Write a code to shuffle a given list randomly without using any built-in shuffle functions"
      ],
      "metadata": {
        "id": "_gG7n94Npr-y"
      }
    },
    {
      "cell_type": "code",
      "source": [
        "import random\n",
        "lst=[1,2,5,7,8,9]\n",
        "lst1=lst.copy()\n",
        "shuffled = []\n",
        "\n",
        "\n",
        "while lst:\n",
        "\n",
        "        random_index = random.randint(0, len(lst) - 1)\n",
        "        random_element = lst.pop(random_index)\n",
        "        shuffled.append(random_element)\n",
        "\n",
        "\n",
        "print(\"Original List:\", lst1)\n",
        "print(\"Shuffled List:\", shuffled)"
      ],
      "metadata": {
        "id": "oOaziPPjrr-o",
        "colab": {
          "base_uri": "https://localhost:8080/"
        },
        "outputId": "816f3e31-be42-48bb-bd08-a28a6919ad45"
      },
      "execution_count": null,
      "outputs": [
        {
          "output_type": "stream",
          "name": "stdout",
          "text": [
            "Original List: [1, 2, 5, 7, 8, 9]\n",
            "Shuffled List: [9, 7, 2, 1, 8, 5]\n"
          ]
        }
      ]
    },
    {
      "cell_type": "markdown",
      "source": [
        "Code Execution Explanation= This program helps mix up a list of numbers randomly. First, it starts with a list of numbers. Then, it picks numbers from the original list one by one and adds them to a new list in random order. It does this by using a random number to pick a number from the original list and then removing it, so each number is only picked once. Finally, the program shows you the original list and the new shuffled list with the numbers mixed up randomly. You can try this with different lists of numbers to see them shuffled!"
      ],
      "metadata": {
        "id": "ay8txdrtqbCh"
      }
    },
    {
      "cell_type": "markdown",
      "source": [
        "question 21=Write a code that takes two tuples as input and returns a new tuple containing elements that are\n",
        "common to both input tuples"
      ],
      "metadata": {
        "id": "sPoesudsr0Lb"
      }
    },
    {
      "cell_type": "markdown",
      "source": [
        "Note: Please enter comma-separated values. Ensure there are no trailing commas or spaces at the end of your input, as this may cause an error."
      ],
      "metadata": {
        "id": "LtdMwb4ar7uc"
      }
    },
    {
      "cell_type": "markdown",
      "source": [
        "Please note that the input is received as a string instead of an integer or float. I chose to handle the input as a string to accommodate various data types, ensuring alignment with the specified condition."
      ],
      "metadata": {
        "id": "eig6SiYfuSmo"
      }
    },
    {
      "cell_type": "code",
      "source": [
        "a=input(\"enter value as tuple 1 please enter comma separated value \\n\").lower()   #here i made it case insensitive so that user can use string as well\n",
        "b=input(\"enter value as tuple 2  please enter comma separated value \\n\").lower()\n",
        "t1=tuple(a.split(\",\"))\n",
        "t2=tuple(b.split(\",\"))\n",
        "\n",
        "t1=set(t1)\n",
        "t2=set(t2)\n",
        "\n",
        "union_set=t1.intersection(t2)\n",
        "union_tuple=tuple(union_set)\n",
        "\n",
        "print(sorted(union_tuple))\n",
        "print(type(union_tuple))\n",
        "\n"
      ],
      "metadata": {
        "id": "YHvrtAMAuV7r",
        "colab": {
          "base_uri": "https://localhost:8080/"
        },
        "outputId": "f8a34232-9007-490d-c245-5685349ebf5a"
      },
      "execution_count": null,
      "outputs": [
        {
          "output_type": "stream",
          "name": "stdout",
          "text": [
            "enter value as tuple 1 please enter comma separated value \n",
            "1,2,3,4,5,1,2,3\n",
            "enter value as tuple 2  please enter comma separated value \n",
            "100,200,1,2,3,4\n",
            "['1', '2', '3', '4']\n",
            "<class 'tuple'>\n"
          ]
        }
      ]
    },
    {
      "cell_type": "markdown",
      "source": [
        "Code Execution Explanation= This program helps find items that are the same in two groups of items called tuples. First, you enter the items of the first tuple separated by commas. Then, you enter the items of the second tuple also separated by commas. The program then compares the items in both tuples and finds the ones that are the same in both. It then shows you these common items as a new tuple. You can try this with different sets of items to see which ones are the same in both tuples!"
      ],
      "metadata": {
        "id": "i5dOyJ6Pq3GX"
      }
    },
    {
      "cell_type": "markdown",
      "source": [
        "question 22= Create a code that prompts the user to enter two sets of integers separated by commas. Then, print the\n",
        "intersection of these two sets"
      ],
      "metadata": {
        "id": "zyc--PDTudqM"
      }
    },
    {
      "cell_type": "markdown",
      "source": [
        "Note: Please enter comma-separated values. Ensure there are no trailing commas or spaces at the end of your input, as this may cause an error."
      ],
      "metadata": {
        "id": "ESqWMzpoNe6T"
      }
    },
    {
      "cell_type": "code",
      "source": [
        "s1=input(\"enter valuesfor  set 1 enter comma separated value \\n\")\n",
        "s2=input(\"enter values for set 2 enter comma separated value \\n\")\n",
        "sa1=set(map(int,s1.split(\",\")))\n",
        "sa2=set(map(int,s2.split(\",\")))\n",
        "s3=sa1&sa2\n",
        "print(f\"intersection of set 1 and set 2 is \\n {s3}\")"
      ],
      "metadata": {
        "id": "ZCUXjpKXzYBx",
        "colab": {
          "base_uri": "https://localhost:8080/"
        },
        "outputId": "d7d006b2-0f78-4749-8dbd-0f4e24b1fc90"
      },
      "execution_count": null,
      "outputs": [
        {
          "output_type": "stream",
          "name": "stdout",
          "text": [
            "enter valuesfor  set 1 enter comma separated value \n",
            "1,2,3,4,5,6,100\n",
            "enter values for set 2 enter comma separated value \n",
            "10,20,1,2,3\n",
            "intersection of set 1 and set 2 is \n",
            " {1, 2, 3}\n"
          ]
        }
      ]
    },
    {
      "cell_type": "markdown",
      "source": [
        "Code Execution Explanation= This program asks you to enter two groups of numbers, or sets, separated by commas. It then looks at both sets and finds the numbers that are the same in both sets. Finally, it shows you these common numbers as the intersection of the two sets. You can try this with different sets of numbers to see which ones they have in common!\n",
        "\n",
        "\n",
        "\n"
      ],
      "metadata": {
        "id": "S2omeqBIrFIK"
      }
    },
    {
      "cell_type": "markdown",
      "source": [
        "question 23= Write a code to concatenate two tuples. The function should take two tuples as input and return a new\n",
        "tuple containing elements from both input tuples"
      ],
      "metadata": {
        "id": "wyb7NHBQzZIW"
      }
    },
    {
      "cell_type": "markdown",
      "source": [
        "Note: Please enter comma-separated values. Ensure there are no trailing commas or spaces at the end of your input, as this may cause an error."
      ],
      "metadata": {
        "id": "QQ5OSp5hzzLE"
      }
    },
    {
      "cell_type": "markdown",
      "source": [
        "Please note that the input is received as a string instead of an integer or float. I chose to handle the input as a string to accommodate various data types, ensuring alignment with the specified condition."
      ],
      "metadata": {
        "id": "JGMQn7s4257m"
      }
    },
    {
      "cell_type": "code",
      "source": [
        "def tuple_concatenate (tup1,tup2):\n",
        "    t1=tuple(tup1.split(\",\"))\n",
        "    t2=tuple(tup2.split(\",\"))\n",
        "    t3=t1+t2\n",
        "    return t3\n",
        "\n",
        "tup1=input(\"enter value for tuple 1 enter comma seperated value \\n\")\n",
        "tup2=input(\"enter value for tuple 2 enter comma seperated value \\n\")\n",
        "result=tuple_concatenate(tup1,tup2)\n",
        "print(f\"concatenate of two tuples \\n {result}\")"
      ],
      "metadata": {
        "id": "PpA2LP1k29-5",
        "colab": {
          "base_uri": "https://localhost:8080/"
        },
        "outputId": "8b4e8ebe-c047-439f-8134-b5bcf6d21fa9"
      },
      "execution_count": null,
      "outputs": [
        {
          "output_type": "stream",
          "name": "stdout",
          "text": [
            "enter value for tuple 1 enter comma seperated value \n",
            "1,2,3,4,5,5\n",
            "enter value for tuple 2 enter comma seperated value \n",
            "100,200,300,1\n",
            "concatenate of two tuples \n",
            " ('1', '2', '3', '4', '5', '5', '100', '200', '300', '1')\n"
          ]
        }
      ]
    },
    {
      "cell_type": "markdown",
      "source": [
        "Code Execution Explanation=  This program lets you combine two groups of items, called tuples. First, you enter items for the first tuple separated by commas. Then, you enter items for the second tuple also separated by commas. The program then puts all the items from both tuples together into a new tuple. Finally, it shows you the new tuple that has all the items combined from both original tuples. You can try this with different sets of items to see how they combine!"
      ],
      "metadata": {
        "id": "g6ovHSxBrkKV"
      }
    },
    {
      "cell_type": "markdown",
      "source": [
        "question 24=Develop a code that prompts the user to input two sets of strings. Then, print the elements that are\n",
        "present in the first set but not in the second set"
      ],
      "metadata": {
        "id": "DP9uCU2L50RE"
      }
    },
    {
      "cell_type": "markdown",
      "source": [
        "Note: Please enter comma-separated values. Ensure there are no trailing commas or spaces at the end of your input, as this may cause an error."
      ],
      "metadata": {
        "id": "Y1Fyf7pH9asE"
      }
    },
    {
      "cell_type": "code",
      "source": [
        "set1_input = input(\"Enter elements for the first set (separated by comma): \").lower()  # here i am making python case insensitive\n",
        "set2_input = input(\"Enter elements for the second set (separated by comma): \").lower()  # to handle a case where both set have same string in different case\n",
        "\n",
        "\n",
        "set1 = set(set1_input.split(\",\"))\n",
        "set2 = set(set2_input.split(\",\"))\n",
        "\n",
        "difference_set = set1 - set2\n",
        "if difference_set :\n",
        "    print(\"Elements in the first set but not in the second set:\")\n",
        "    print(difference_set)\n",
        "else:\n",
        "    print(\"no difference found \")"
      ],
      "metadata": {
        "id": "U31K_tJdNWkW",
        "colab": {
          "base_uri": "https://localhost:8080/"
        },
        "outputId": "f66136de-7fe7-49f5-93d5-b8aa4eb3bbfa"
      },
      "execution_count": null,
      "outputs": [
        {
          "output_type": "stream",
          "name": "stdout",
          "text": [
            "Enter elements for the first set (separated by comma): python,sql,power bi,excle,nlp\n",
            "Enter elements for the second set (separated by comma): PythoN,sql,numpy,pandas\n",
            "Elements in the first set but not in the second set:\n",
            "{'power bi', 'excle', 'nlp'}\n"
          ]
        }
      ]
    },
    {
      "cell_type": "markdown",
      "source": [
        "Code Execution Explanation= This program asks you to enter two groups of words or phrases, called sets, separated by commas. It then compares the words in the first set to the words in the second set. It finds and shows you the words that are in the first set but not in the second set. If there are no differences, it tells you that no differences were found. You can try this with different sets of words to see which ones are unique to the first set!"
      ],
      "metadata": {
        "id": "ByEPLmK4r0mi"
      }
    },
    {
      "cell_type": "markdown",
      "source": [
        "question 25= Create a code that takes a tuple and two integers as input. The function should return a new tuple\n",
        "containing elements from the original tuple within the specified range of indices"
      ],
      "metadata": {
        "id": "dO1pSpArVMrV"
      }
    },
    {
      "cell_type": "markdown",
      "source": [
        "Note: Please enter comma-separated values. Ensure there are no trailing commas or spaces at the end of your input, as this may cause an error."
      ],
      "metadata": {
        "id": "amE3jac9VUl8"
      }
    },
    {
      "cell_type": "markdown",
      "source": [
        "Please note that the input tuple is received data as a string instead of an integer or float.and i have taken two integers as mentioned in question I chose to handle the input as a string to accommodate various data types, ensuring alignment with the specified condition."
      ],
      "metadata": {
        "id": "6YFlqlKCVtGI"
      }
    },
    {
      "cell_type": "code",
      "source": [
        "def get_elements_in_range(input_tuple, start_index, end_index):\n",
        "\n",
        "    if start_index < 1 or end_index > len(input_tuple) or start_index > end_index:\n",
        "        return ()\n",
        "\n",
        "\n",
        "    start_index -= 1\n",
        "    end_index -= 1\n",
        "\n",
        "\n",
        "    result_tuple = input_tuple[start_index:end_index + 1]\n",
        "\n",
        "    return result_tuple\n",
        "\n",
        "\n",
        "s = input(\"Enter the values for the tuple (comma-separated): \")\n",
        "input_tuple = tuple(s.split(\",\"))\n",
        "start_index = int(input(\"Enter the start index (1-based): \"))#here for user convenience i have made  a code that start index is 1 and\n",
        "end_index = int(input(\"Enter the end index : \"))    # end index is also based on the  user input\n",
        "\n",
        "\n",
        "result = get_elements_in_range(input_tuple, start_index, end_index)\n",
        "print(\"Resulting tuple:\", result)\n",
        "\n"
      ],
      "metadata": {
        "id": "qkyyhh6vVhs8",
        "colab": {
          "base_uri": "https://localhost:8080/"
        },
        "outputId": "e3aae10c-1070-422c-a02d-3842e8659f21"
      },
      "execution_count": null,
      "outputs": [
        {
          "output_type": "stream",
          "name": "stdout",
          "text": [
            "Enter the values for the tuple (comma-separated): 100,200,300,400,500,600,700,800,900,1000\n",
            "Enter the start index (1-based): 1\n",
            "Enter the end index : 9\n",
            "Resulting tuple: ('100', '200', '300', '400', '500', '600', '700', '800', '900')\n"
          ]
        }
      ]
    },
    {
      "cell_type": "markdown",
      "source": [
        "Code Execution Explanation= This program asks you to enter a group of items, called a tuple, separated by commas. Then, you enter two numbers: a start index and an end index, which tell the program which items to pick from the tuple. The program checks if the start and end indices are valid (not too high or low) and if the start index is before the end index. If everything is okay, it takes the items from the tuple within that range and shows you a new tuple with those items. You can try this with different tuples and index ranges to see which items you can pick!"
      ],
      "metadata": {
        "id": "zpQX2sm5tGCC"
      }
    },
    {
      "cell_type": "markdown",
      "source": [
        "question 26=  Write a code that prompts the user to input two sets of characters. Then, print the union of these two sets"
      ],
      "metadata": {
        "id": "bReHy2rVWNNB"
      }
    },
    {
      "cell_type": "markdown",
      "source": [
        "Note: Please enter comma-separated values. Ensure there are no trailing commas or spaces at the end of your input, as this may cause an error."
      ],
      "metadata": {
        "id": "emGPZfhbWZbE"
      }
    },
    {
      "cell_type": "code",
      "source": [
        "set1_input = input(\"Enter characters for the first set (comma separated): \")\n",
        "set2_input = input(\"Enter characters for the second set (comma seperated): \")\n",
        "\n",
        "set1 = set(set1_input.split(\",\"))\n",
        "set2 = set(set2_input.split(\",\"))\n",
        "\n",
        "union_set = set1|set2\n",
        "\n",
        "print(\"Union of the two sets:\", union_set)"
      ],
      "metadata": {
        "id": "hoG1fnKBYtcr",
        "colab": {
          "base_uri": "https://localhost:8080/"
        },
        "outputId": "f88cfce6-2bda-4519-d2e7-b7ad979fceed"
      },
      "execution_count": null,
      "outputs": [
        {
          "output_type": "stream",
          "name": "stdout",
          "text": [
            "Enter characters for the first set (comma separated): a,b,c,d,e,f,a\n",
            "Enter characters for the second set (comma seperated): A,B,C,D,E,A\n",
            "Union of the two sets: {'B', 'D', 'C', 'E', 'b', 'a', 'd', 'f', 'c', 'e', 'A'}\n"
          ]
        }
      ]
    },
    {
      "cell_type": "markdown",
      "source": [
        "Code Execution Explanation= This program asks you to enter two groups of letters or characters, called sets, separated by commas. It then combines all the letters from both sets into a new set, removing any duplicates. Finally, it shows you this new set, which is the union of the two original sets. You can try this with different sets of letters to see all the unique characters together!"
      ],
      "metadata": {
        "id": "n9gZAd6ZtwkP"
      }
    },
    {
      "cell_type": "markdown",
      "source": [
        "question 27= Develop a code that takes a tuple of integers as input. The function should return the maximum and\n",
        "minimum values from the tuple using tuple unpacking"
      ],
      "metadata": {
        "id": "55PJ5UDuY1jG"
      }
    },
    {
      "cell_type": "markdown",
      "source": [
        "Note: Please enter comma-separated values. Ensure there are no trailing commas or spaces at the end of your input, as this may cause an error."
      ],
      "metadata": {
        "id": "UIvxOdArZBwv"
      }
    },
    {
      "cell_type": "code",
      "source": [
        "def find_min_max(input_tuple):\n",
        "    min_value = min(input_tuple)\n",
        "    max_value = max(input_tuple)\n",
        "    return min_value, max_value\n",
        "\n",
        "InPuT=input(\"enter value to get  Minimum value and Maximum value please enter comma seperated value \\n \")\n",
        "input_tuple = tuple(map(int,InPuT.split(\",\")))\n",
        "min_value, max_value = find_min_max(input_tuple)\n",
        "print(\"Minimum value is :\", min_value)\n",
        "print(\"Maximum value is:\", max_value)"
      ],
      "metadata": {
        "id": "G9ES2C4FcxWQ",
        "colab": {
          "base_uri": "https://localhost:8080/"
        },
        "outputId": "6c4d429b-4d4f-430f-956a-c4c2efb3c6b7"
      },
      "execution_count": null,
      "outputs": [
        {
          "output_type": "stream",
          "name": "stdout",
          "text": [
            "enter value to get  Minimum value and Maximum value please enter comma seperated value \n",
            " 1,4,7,9,10,100,200,2000,10000000\n",
            "Minimum value is : 1\n",
            "Maximum value is: 10000000\n"
          ]
        }
      ]
    },
    {
      "cell_type": "markdown",
      "source": [
        "Code Execution Explanation= This program asks you to enter a group of numbers, called a tuple, separated by commas. It then looks at the numbers and finds the smallest (minimum) and largest (maximum) numbers in that group. The program shows you these values separately. You can try this with different sets of numbers to see which one is the smallest and largest"
      ],
      "metadata": {
        "id": "FFIVKB7Exb3a"
      }
    },
    {
      "cell_type": "markdown",
      "source": [
        "question 28=Create a code that defines two sets of integers. Then, print the union, intersection, and difference of these\n",
        "two sets"
      ],
      "metadata": {
        "id": "eNri3rdZc45h"
      }
    },
    {
      "cell_type": "markdown",
      "source": [
        "Note: Please enter comma-separated values. Ensure there are no trailing commas or spaces at the end of your input, as this may cause an error."
      ],
      "metadata": {
        "id": "1WXC8NF6dBHu"
      }
    },
    {
      "cell_type": "code",
      "source": [
        "s1=input(\"enter values for  set 1 enter comma separated value \\n\")\n",
        "s2=input(\"enter values for set 2 enter comma separated value \\n\")\n",
        "sa1=set(map(int,s1.split(\",\")))\n",
        "sa2=set(map(int,s2.split(\",\")))\n",
        "intersec_is=sa1&sa2\n",
        "un_is=sa1|sa2\n",
        "diff_is=sa1-sa2\n",
        "symen_diff=sa1^sa2\n",
        "print(f\"intersection of two sets :{intersec_is}\")\n",
        "print(f\"union of two sets :{un_is}\")\n",
        "print(f\"diffrence of two sets :{diff_is}\")\n",
        "print(f\"symetric diffrence of two sets :{symen_diff}\")\n"
      ],
      "metadata": {
        "id": "0PUVD2AjiiHE",
        "colab": {
          "base_uri": "https://localhost:8080/"
        },
        "outputId": "08145030-ec9c-46df-f946-d31fedefd969"
      },
      "execution_count": null,
      "outputs": [
        {
          "output_type": "stream",
          "name": "stdout",
          "text": [
            "enter values for  set 1 enter comma separated value \n",
            "1,2,3,4,5,6,7,1,2\n",
            "enter values for set 2 enter comma separated value \n",
            "1,2,3,4,100,200,300,400\n",
            "intersection of two sets :{1, 2, 3, 4}\n",
            "union of two sets :{1, 2, 3, 4, 5, 6, 7, 100, 200, 300, 400}\n",
            "diffrence of two sets :{5, 6, 7}\n",
            "symetric diffrence of two sets :{100, 5, 6, 7, 200, 300, 400}\n"
          ]
        }
      ]
    },
    {
      "cell_type": "markdown",
      "source": [
        "Code Execution Explanation=This program defines two sets of integers based on user input. It then calculates and displays several set operations:\n",
        "\n",
        "Intersection: Shows numbers that are common to both sets.\n",
        "Union: Combines all unique numbers from both sets.\n",
        "Difference: Displays numbers that are in the first set but not in the second set.\n",
        "Symmetric Difference: Shows all unique numbers that belong to either set but not both.\n",
        "The results of these operations are printed to the screen. This program helps understand how sets can be manipulated to find common, combined, or unique elements."
      ],
      "metadata": {
        "id": "eTMO3UWJyXI8"
      }
    },
    {
      "cell_type": "markdown",
      "source": [
        "question 29=   Write a code that takes a tuple and an element as input. The function should return the count of\n",
        "occurrences of the given element in the tuple"
      ],
      "metadata": {
        "id": "i7itb64RinpK"
      }
    },
    {
      "cell_type": "markdown",
      "source": [
        "Note: Please enter comma-separated values. Ensure there are no trailing commas or spaces at the end of your input, as this may cause an error.\n"
      ],
      "metadata": {
        "id": "ifh9FOpaiwXC"
      }
    },
    {
      "cell_type": "markdown",
      "source": [
        "Please note that the input tuple is received data as a string instead of an integer or float.and i have taken two integers as mentioned in question I chose to handle the input as a string to accommodate various data types, ensuring alignment with the specified condition."
      ],
      "metadata": {
        "id": "-yRIOhF5O8Pc"
      }
    },
    {
      "cell_type": "code",
      "source": [
        "def count_elements(lst, element):\n",
        "     return lst.count(element)\n",
        "\n",
        "user_input = input(\"Enter elements for the tuple separated by comma: \").lower() # here i have made this input case insensitive so that user can check for string\n",
        "input_tuple = tuple(user_input.split(\",\"))\n",
        "\n",
        "element_to_count = input(\"Enter an element to count its occurrences: \").lower()\n",
        "\n",
        "occurrences_count = count_elements(input_tuple, element_to_count)\n",
        "if occurrences_count:\n",
        "\n",
        "    print(f\"Number of occurrences of {element_to_count} in the tuple: {occurrences_count}\")\n",
        "else:\n",
        "     print(\"sorry no word found\")\n"
      ],
      "metadata": {
        "id": "7ae_SvCEkaT5",
        "colab": {
          "base_uri": "https://localhost:8080/"
        },
        "outputId": "61d68e0f-2f60-4472-87c7-2e53d7d0c309"
      },
      "execution_count": null,
      "outputs": [
        {
          "output_type": "stream",
          "name": "stdout",
          "text": [
            "Enter elements for the tuple separated by comma: apple,banana,mango,1,2,3,4,4\n",
            "Enter an element to count its occurrences: 4\n",
            "Number of occurrences of 4 in the tuple: 2\n"
          ]
        }
      ]
    },
    {
      "cell_type": "markdown",
      "source": [
        "Code Execution Explanation= This program asks you to enter a group of items, called a tuple, separated by commas. Then, you choose one item to count how many times it appears in the tuple. The program checks the tuple for that item and counts how many times it shows up. Finally, it tells you how many times that item appears in the tuple. You can try this with different tuples and items to see how often they appear together!"
      ],
      "metadata": {
        "id": "c1E3TZyxz1PZ"
      }
    },
    {
      "cell_type": "markdown",
      "source": [
        "questions 30=Develop a code that prompts the user to input two sets of strings. Then, print the symmetric difference of\n",
        "these two sets"
      ],
      "metadata": {
        "id": "PbRHQDWakei7"
      }
    },
    {
      "cell_type": "markdown",
      "source": [
        "Note: Please enter comma-separated values. Ensure there are no trailing commas or spaces at the end of your input, as this may cause an error."
      ],
      "metadata": {
        "id": "sQHjl14zBCJU"
      }
    },
    {
      "cell_type": "code",
      "source": [
        "s1 = set(input(\"Enter strings for set 1, separated by spaces:\\n\").lower().split(\",\"))\n",
        "s2 = set(input(\"Enter strings for set 2, separated by spaces:\\n\").lower().split(\",\"))\n",
        "\n",
        "\n",
        "symmetric_difference = s1 ^ s2\n",
        "\n",
        "if symmetric_difference:\n",
        "    print(\"Symmetric difference is:\", symmetric_difference)\n",
        "else:\n",
        "    print(\"Symmetric difference is empty\")\n",
        "\n",
        "print(\"Hope you got your answer. Have a great day!\")\n",
        "\n"
      ],
      "metadata": {
        "id": "Ogw0GLaemb3B",
        "colab": {
          "base_uri": "https://localhost:8080/"
        },
        "outputId": "0c01a95a-2bec-497c-8062-ecce7113d31e"
      },
      "execution_count": null,
      "outputs": [
        {
          "output_type": "stream",
          "name": "stdout",
          "text": [
            "Enter strings for set 1, separated by spaces:\n",
            "avengers,pairates of caribian,transformer \n",
            "Enter strings for set 2, separated by spaces:\n",
            "Avengers,harry potter\n",
            "Symmetric difference is: {'transformer ', 'pairates of caribian', 'harry potter'}\n",
            "Hope you got your answer. Have a great day!\n"
          ]
        }
      ]
    },
    {
      "cell_type": "markdown",
      "source": [
        "Code Execution Explanation= This program asks you to enter two groups of words or phrases, called sets. Each set can have different words. The program then compares the words in both sets and finds the words that are unique to each set, meaning they're not shared between the two sets. It shows you these unique words as the symmetric difference. If there are no unique words, it tells you that the symmetric difference is empty. You can try this with different sets of words to see which ones are only in one set or the other!"
      ],
      "metadata": {
        "id": "fFMXTKCi0PSg"
      }
    },
    {
      "cell_type": "markdown",
      "source": [
        "questions 31= Write a code that takes a list of words as input and returns a dictionary where the keys are unique words\n",
        "and the values are the frequencies of those words in the input list"
      ],
      "metadata": {
        "id": "757sfzcCmc2t"
      }
    },
    {
      "cell_type": "markdown",
      "source": [
        "Note: Please enter comma-separated values. Ensure there are no trailing commas or spaces at the end of your input, as this may cause an error.\n",
        "\n"
      ],
      "metadata": {
        "id": "ckcDwTakpgUS"
      }
    },
    {
      "cell_type": "code",
      "source": [
        "def word_frequency_dict(words_list):\n",
        "    frequency_dict = {}\n",
        "\n",
        "\n",
        "    for word in words_list:\n",
        "        if word in frequency_dict:\n",
        "            frequency_dict[word] += 1\n",
        "        else:\n",
        "            frequency_dict[word] = 1\n",
        "\n",
        "    return frequency_dict\n",
        "\n",
        "s=input(\"enter list of words please enter comma seperated value \\n\").lower().split(\",\") #here i made it case insensitive for user convenience\n",
        "frequency_dictionary = word_frequency_dict(s)\n",
        "print(f\"frequency dictionary is {frequency_dictionary}\")\n"
      ],
      "metadata": {
        "id": "sFkqzQZ-piDM",
        "colab": {
          "base_uri": "https://localhost:8080/"
        },
        "outputId": "419626fb-8eae-46fd-b20b-1238f7e6ad1e"
      },
      "execution_count": null,
      "outputs": [
        {
          "output_type": "stream",
          "name": "stdout",
          "text": [
            "enter list of words please enter comma seperated value \n",
            "apple,APPLE,banana,MANGO,mango\n",
            "frequency dictionary is {'apple': 2, 'banana': 1, 'mango': 2}\n"
          ]
        }
      ]
    },
    {
      "cell_type": "markdown",
      "source": [
        "Code Execution Explanation= This program asks you to enter a bunch of words separated by commas. Then, it counts how many times each word appears in the list. It does this by creating a dictionary where each word is a key, and the value is the number of times that word shows up. After counting, the program shows you the dictionary with all the words and how often they appear. You can try this with different lists of words to see which words come up most often!"
      ],
      "metadata": {
        "id": "FXTBy3wh0hj9"
      }
    },
    {
      "cell_type": "markdown",
      "source": [
        "question 32=  Write a code that takes two dictionaries as input and merges them into a single dictionary. If there are\n",
        "common keys, the values should be added together"
      ],
      "metadata": {
        "id": "uTM_2-HWqBl_"
      }
    },
    {
      "cell_type": "code",
      "source": [
        "def merge_dictionaries(dict1, dict2):\n",
        "    merged_dict = dict(dict1)\n",
        "\n",
        "    for key, value in dict2.items():\n",
        "        if key in merged_dict:\n",
        "\n",
        "            merged_dict[key] += value\n",
        "        else:\n",
        "\n",
        "            merged_dict[key] = value\n",
        "\n",
        "    return merged_dict\n",
        "\n",
        "def get_dictionary_from_user():\n",
        "    dictionary = {}\n",
        "    num_entries = int(input(\"Enter the number of entries for the dictionary: \"))\n",
        "\n",
        "    for i in range(num_entries):\n",
        "        key = input(f\"Enter key {i + 1}: \").lower()   # here i made it case insensitive for user convenience\n",
        "        value = int(input(f\"Enter value for key '{key}': \"))\n",
        "        dictionary[key] = value\n",
        "\n",
        "    return dictionary\n",
        "\n",
        "\n",
        "print(\"Enter details for the first dictionary:\")\n",
        "dict1 = get_dictionary_from_user()\n",
        "\n",
        "print(\"\\nEnter details for the second dictionary:\")\n",
        "dict2 = get_dictionary_from_user()\n",
        "\n",
        "merged_result = merge_dictionaries(dict1, dict2)\n",
        "print(\"\\nMerged Dictionary:\", merged_result)\n"
      ],
      "metadata": {
        "id": "uQomIX78rzOx",
        "colab": {
          "base_uri": "https://localhost:8080/"
        },
        "outputId": "4cbb98fa-d26e-473b-d23e-a9510e304ceb"
      },
      "execution_count": null,
      "outputs": [
        {
          "output_type": "stream",
          "name": "stdout",
          "text": [
            "Enter details for the first dictionary:\n",
            "Enter the number of entries for the dictionary: 2\n",
            "Enter key 1: apple\n",
            "Enter value for key 'apple': 4\n",
            "Enter key 2: mango\n",
            "Enter value for key 'mango': 3\n",
            "\n",
            "Enter details for the second dictionary:\n",
            "Enter the number of entries for the dictionary: 2\n",
            "Enter key 1: APPLE\n",
            "Enter value for key 'apple': 3\n",
            "Enter key 2: oranges\n",
            "Enter value for key 'oranges': 4\n",
            "\n",
            "Merged Dictionary: {'apple': 7, 'mango': 3, 'oranges': 4}\n"
          ]
        }
      ]
    },
    {
      "cell_type": "markdown",
      "source": [
        "Code Execution Explanation= This program lets you create two dictionaries. Each dictionary has keys and values that you choose. If you use the same key in both dictionaries, the program adds the values together. First, it asks how many pairs (key and value) you want in each dictionary. Then, it helps you enter these pairs for each dictionary. After that, it combines the two dictionaries into one, adding the values for any keys that are the same in both dictionaries. Finally, it shows you the new, merged dictionary with all the keys and their combined values. You can try this with different keys and values to see how dictionaries can be put together!"
      ],
      "metadata": {
        "id": "DTgDpCDF03SU"
      }
    },
    {
      "cell_type": "markdown",
      "source": [
        "question 33=Write a code to access a value in a nested dictionary. The function should take the dictionary and a list of\n",
        "keys as input, and return the corresponding value. If any of the keys do not exist in the dictionary, the\n",
        "function should return None"
      ],
      "metadata": {
        "id": "d3scbdeYr0OP"
      }
    },
    {
      "cell_type": "code",
      "source": [
        "def get_value_from_nested_dict(nested_dict, keys_list):\n",
        "    current_level = nested_dict\n",
        "\n",
        "    for key in keys_list:\n",
        "        if isinstance(current_level, dict) and key in current_level:\n",
        "             current_level = current_level[key]\n",
        "        else:\n",
        "            return None\n",
        "    return current_level\n",
        "\n",
        "my_nested_dict = {\n",
        "    'outer': {\n",
        "        'inner1': {\n",
        "            'value1': 100,\n",
        "            'value2': 200\n",
        "        },\n",
        "        'inner2': {\n",
        "            'value3': 300,\n",
        "            'value4': 400\n",
        "        }\n",
        "    }\n",
        "}\n",
        "\n",
        "keys_to_access = ['outer', 'inner1', 'value2']\n",
        "result_value = get_value_from_nested_dict(my_nested_dict, keys_to_access)\n",
        "if result_value is not None:\n",
        "    print(\"Value found:\", result_value)\n",
        "else:\n",
        "    print(\"One or more keys are missing in the nested dictionary.\")"
      ],
      "metadata": {
        "id": "mJB6e93EPOJs",
        "colab": {
          "base_uri": "https://localhost:8080/"
        },
        "outputId": "dafc8dd3-4e78-4c66-997d-f3d5b63a61b1"
      },
      "execution_count": null,
      "outputs": [
        {
          "output_type": "stream",
          "name": "stdout",
          "text": [
            "Value found: 200\n"
          ]
        }
      ]
    },
    {
      "cell_type": "markdown",
      "source": [
        "Code Execution Explanation=  This program helps you find a specific value in a nested dictionary. Imagine a dictionary like a set of boxes inside boxes. You tell the program which boxes (keys) to open, one by one. If you open all the right boxes in the right order, you find a special treasure (value) inside! First, the program sets out a nested dictionary with different layers of boxes (keys). Then, you choose which keys to use to find the treasure (value). The program checks if all the keys are in the right order and opens the boxes accordingly. If everything matches up, you get to see the treasure (value)! Try this with different keys to explore the nested dictionary and see what's inside!"
      ],
      "metadata": {
        "id": "ENPyqDZV1XDL"
      }
    },
    {
      "cell_type": "markdown",
      "source": [
        "question 34=Write a code that takes a dictionary as input and returns a sorted version of it based on the values. You\n",
        "can choose whether to sort in ascending or descending order"
      ],
      "metadata": {
        "id": "UwwzEs0NPVoJ"
      }
    },
    {
      "cell_type": "code",
      "source": [
        "def sort_dict_by_values_asc(input_dict):\n",
        "    sorted_dict = dict(sorted(input_dict.items(), key=lambda x: x[1]))\n",
        "    return sorted_dict\n",
        "def get_user_input_dict():\n",
        "    dictionary = {}\n",
        "    num_entries = int(input(\"Enter the number of key-value pairs for the dictionary: \"))\n",
        "\n",
        "    for i in range(num_entries):\n",
        "        key = input(f\"Enter key {i + 1}: \")\n",
        "        value = int(input(f\"Enter value for key '{key}': \"))\n",
        "        dictionary[key] = value\n",
        "\n",
        "    return dictionary\n",
        "\n",
        "user_dict = get_user_input_dict()\n",
        "sorted_dict = sort_dict_by_values_asc(user_dict)\n",
        "print(\"Sorted Dictionary (Ascending):\", sorted_dict)"
      ],
      "metadata": {
        "id": "Y-UIKhZFQbEc",
        "colab": {
          "base_uri": "https://localhost:8080/"
        },
        "outputId": "3d3af095-86ca-4b62-b188-b04ed38559eb"
      },
      "execution_count": null,
      "outputs": [
        {
          "output_type": "stream",
          "name": "stdout",
          "text": [
            "Enter the number of key-value pairs for the dictionary: 3\n",
            "Enter key 1: apple\n",
            "Enter value for key 'apple': 20\n",
            "Enter key 2: mango\n",
            "Enter value for key 'mango': 10\n",
            "Enter key 3: oranges\n",
            "Enter value for key 'oranges': 15\n",
            "Sorted Dictionary (Ascending): {'mango': 10, 'oranges': 15, 'apple': 20}\n"
          ]
        }
      ]
    },
    {
      "cell_type": "markdown",
      "source": [
        "Code Execution Explanation= This program helps to organize information neatly by sorting a dictionary based on its values. First, it asks you to create a dictionary by entering pairs of words and numbers. Then, it uses a special function to sort this dictionary from smallest to largest based on the numbers you entered. Finally, it shows you the sorted dictionary with the words and their corresponding numbers in order. It's like putting words in order by how big or small their numbers are, which can help make sense of the information you have!"
      ],
      "metadata": {
        "id": "k3qyxAwC1lPZ"
      }
    },
    {
      "cell_type": "markdown",
      "source": [
        "question 35=Write a code that inverts a dictionary, swapping keys and values. Ensure that the inverted dictionary\n",
        "correctly handles cases where multiple keys have the same value by storing the keys as a list in the .\n"
      ],
      "metadata": {
        "id": "pNyy8mceQeJl"
      }
    },
    {
      "cell_type": "code",
      "source": [
        "def invert_dictionary(input_dict):\n",
        "    inverted_dict = {}\n",
        "\n",
        "    for key, value in input_dict.items():\n",
        "        if value not in inverted_dict:\n",
        "            inverted_dict[value] = [key]\n",
        "        else:\n",
        "            inverted_dict[value].append(key)\n",
        "\n",
        "    return inverted_dict\n",
        "\n",
        "def get_user_input_dict():\n",
        "    dictionary = {}\n",
        "    num_entries = int(input(\"Enter the number of key-value pairs for the dictionary: \"))\n",
        "\n",
        "    for i in range(num_entries):\n",
        "        key = input(f\"Enter key {i + 1}: \")\n",
        "        value = input(f\"Enter value for key '{key}': \")\n",
        "        dictionary[key] = value\n",
        "\n",
        "    return dictionary\n",
        "\n",
        "user_dict = get_user_input_dict()\n",
        "inverted_dict = invert_dictionary(user_dict)\n",
        "print(\"Inverted Dictionary:\")\n",
        "for value, keys in inverted_dict.items():\n",
        "    print(f\"{value}: {keys}\")\n"
      ],
      "metadata": {
        "id": "1slBdu9eQjh6",
        "colab": {
          "base_uri": "https://localhost:8080/"
        },
        "outputId": "16904fef-14fb-4bda-c48f-c8ff10314b5e"
      },
      "execution_count": null,
      "outputs": [
        {
          "output_type": "stream",
          "name": "stdout",
          "text": [
            "Enter the number of key-value pairs for the dictionary: 4\n",
            "Enter key 1: apple\n",
            "Enter value for key 'apple': 4\n",
            "Enter key 2: mango\n",
            "Enter value for key 'mango': 4\n",
            "Enter key 3: oranges\n",
            "Enter value for key 'oranges': 8\n",
            "Enter key 4: banana\n",
            "Enter value for key 'banana': 12\n",
            "Inverted Dictionary:\n",
            "4: ['apple', 'mango']\n",
            "8: ['oranges']\n",
            "12: ['banana']\n"
          ]
        }
      ]
    },
    {
      "cell_type": "markdown",
      "source": [
        "Code Execution Explanation= This program  creates a function to \"invert\" a dictionary, which means swapping the keys and values. When you run the code, it asks you to enter pairs of keys and values to create a dictionary. Then, it uses a function to flip this dictionary around so that the values become keys, and if there are multiple keys with the same value, it stores them in a list. Finally, it shows you the inverted dictionary where each value is linked to the keys that originally had that value. This is useful for organizing information differently, allowing you to quickly find which keys had the same values in your original dictionary!"
      ],
      "metadata": {
        "id": "RtPRkCUL5ioc"
      }
    },
    {
      "cell_type": "markdown",
      "source": [
        " Thank you for taking the time to review my assignment. I appreciate your valuable feedback and insights! 🌟"
      ],
      "metadata": {
        "id": "sxnim1_c5wt1"
      }
    }
  ]
}